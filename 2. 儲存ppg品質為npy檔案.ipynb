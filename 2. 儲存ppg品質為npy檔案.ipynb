{
 "cells": [
  {
   "cell_type": "code",
   "execution_count": 1,
   "id": "aa2f9168-426c-4861-a209-370be9c048e3",
   "metadata": {},
   "outputs": [],
   "source": [
    "from toolbox_library import Unqualified_PPG_preprocessor"
   ]
  },
  {
   "cell_type": "code",
   "execution_count": 2,
   "id": "1a5f32a9-ce3b-4822-b313-f0563ba84030",
   "metadata": {},
   "outputs": [
    {
     "name": "stdout",
     "output_type": "stream",
     "text": [
      "saved\n",
      "saved\n"
     ]
    }
   ],
   "source": [
    "chunk_size = 500\n",
    "pre = Unqualified_PPG_preprocessor(data_dir='../train', chunk_size=chunk_size, calculate_quality=True)\n",
    "pre = Unqualified_PPG_preprocessor(data_dir='../valid', chunk_size=chunk_size, calculate_quality=True)"
   ]
  },
  {
   "cell_type": "code",
   "execution_count": null,
   "id": "7962ab52-6677-4653-be3d-160a05dbb9c0",
   "metadata": {},
   "outputs": [],
   "source": []
  },
  {
   "cell_type": "code",
   "execution_count": null,
   "id": "601ac8f1-bba5-4509-a1ce-61c18f89a5fc",
   "metadata": {},
   "outputs": [],
   "source": []
  }
 ],
 "metadata": {
  "kernelspec": {
   "display_name": "finance",
   "language": "python",
   "name": "finance"
  },
  "language_info": {
   "codemirror_mode": {
    "name": "ipython",
    "version": 3
   },
   "file_extension": ".py",
   "mimetype": "text/x-python",
   "name": "python",
   "nbconvert_exporter": "python",
   "pygments_lexer": "ipython3",
   "version": "3.12.5"
  }
 },
 "nbformat": 4,
 "nbformat_minor": 5
}
